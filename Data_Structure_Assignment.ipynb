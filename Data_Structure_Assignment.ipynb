{
  "nbformat": 4,
  "nbformat_minor": 0,
  "metadata": {
    "colab": {
      "provenance": []
    },
    "kernelspec": {
      "name": "python3",
      "display_name": "Python 3"
    },
    "language_info": {
      "name": "python"
    }
  },
  "cells": [
    {
      "cell_type": "markdown",
      "source": [
        "**Data Types and Structures Questions**\n"
      ],
      "metadata": {
        "id": "3kCkvMuRTupp"
      }
    },
    {
      "cell_type": "markdown",
      "source": [
        "**1. What are data structures, and why are they important ?**\n"
      ],
      "metadata": {
        "id": "z90-5OzuTyzk"
      }
    },
    {
      "cell_type": "markdown",
      "source": [
        "Ans - A data structure is a way of organizing and storing data in a computer so that it can be accessed and used efficiently. It refers to the logical or mathematical representation of data, as well as the implementation in a computer program.\n",
        "\n",
        "Data structures are important because they are the foundation for organizing, storing, and manipulating data efficiently in computer science. They allow for faster data retrieval and manipulation, enable the design of more efficient algorithms for complex problems, and are crucial for writing clean, maintainable, and performant code"
      ],
      "metadata": {
        "id": "BfeMdNXbT6eI"
      }
    },
    {
      "cell_type": "markdown",
      "source": [
        "**2. Explain the difference between mutable and immutable data types with examples ?**"
      ],
      "metadata": {
        "id": "efCe1P4DU21Y"
      }
    },
    {
      "cell_type": "markdown",
      "source": [
        "Ans - Mutable data types are objects whose state or content can be modified after they've been instantiated. This means you can change individual elements or parts of the data type without creating a new object.\n",
        "\n",
        "In Python, Lists and Dictionaries are common examples of mutable types.\n",
        "\n",
        "Immutable data types are objects whose value cannot be changed after they are created. Any operation that seems to \"modify\" an immutable object actually results in the creation of a new object in memory.\n",
        "\n",
        "In Python, Integers, Floats, Strings, and Tuples are common examples of immutable types."
      ],
      "metadata": {
        "id": "E_oryfvJVVAI"
      }
    },
    {
      "cell_type": "markdown",
      "source": [
        "**3. What are the main differences between lists and tuples in Python ?**\n"
      ],
      "metadata": {
        "id": "dMbFba_lWMEG"
      }
    },
    {
      "cell_type": "markdown",
      "source": [
        "Ans - **List** - Mutable (Can be modified, added to, or removed from after creation)\n",
        "      **Tuples** - Immutable (Cannot be changed after creation)\n",
        "\n",
        "      **List** - Defined using square brackets ([]).\n",
        "      **Tuples** - Defined using parentheses (()).\n",
        "\n",
        "      **List** - Storing a collection of homogeneous (often similar) items that may need to change.\n",
        "      **Tuples** - Storing a collection of heterogeneous (often different) items, often representing a single record.\n",
        "\n",
        "      **List** - Slower iteration and insertion due to overhead required for dynamic resizing.\n",
        "      Tuples - Faster iteration and access due to fixed size and structure.\n",
        "\n",
        "      **List** - Many methods for modification (append(), insert(), remove(), sort()).\n",
        "      **Tuples** - Few methods (primarily count() and index()).\n",
        "\n"
      ],
      "metadata": {
        "id": "rcjTCMXKWlqh"
      }
    },
    {
      "cell_type": "markdown",
      "source": [
        "**4. Describe how dictionaries store data ?**\n",
        "\n"
      ],
      "metadata": {
        "id": "I9fOlq3bXnwO"
      }
    },
    {
      "cell_type": "markdown",
      "source": [
        "Dictionaries in Python store data as a collection of key-value pairs using a data structure called a hash table (or hash map).\n",
        "\n",
        "Key-value Pair = The fundamental unit of a dictionary is the key-value pair.\n",
        "             **Key**: Must be an immutable data type (like a string, number, or tuple). Keys must be unique within a dictionary. Keys are used to quickly look up the associated value.\n",
        "             **Value**: Can be any Python object (mutable or immutable), including lists, other dictionaries, or even functions.\n",
        "             **A dictionary is enclosed in curly braces ({\\}) with pairs separated by commas, and the key and value separated by a colon (:).**\n",
        "The reason dictionaries are so fast for data retrieval lies in their use of a hash table.\n",
        "\n",
        "When you insert a key-value pair, the dictionary performs the following steps:\n",
        "\n",
        "It takes the key (e.g., \"name\").\n",
        "\n",
        "It runs the key through a hash function which calculates a unique integer Called the hash value (or hash code).\n",
        "\n",
        "This hash value is used to determine the exact storage index (or \"bucket\") in the internal array structure of the hash table where the key-value pair will be placed.\n",
        "\n",
        "Instead of iterating through every item to find a value, the dictionary can go directly to the calculated index in the hash table to find the associated key and value. This provides near-instantaneous lookups.\n",
        "\n",
        "Since it's possible for two different keys to produce the same hash value (a hash collision), dictionaries employ strategies (like chaining) to manage this. At the index where the collision occurs, the dictionary may store a small list or structure that holds all the key-value pairs that mapped to that index.\n"
      ],
      "metadata": {
        "id": "2i17-9TqXsn5"
      }
    },
    {
      "cell_type": "markdown",
      "source": [
        "**5. Why might you use a set instead of a list in Python ?**"
      ],
      "metadata": {
        "id": "-Hex_pe9aNY7"
      }
    },
    {
      "cell_type": "markdown",
      "source": [
        "You might use a set instead of a list in Python when your primary needs are uniqueness and fast membership testing, and order is not important.\n",
        "\n",
        "Sets are a different type of collection designed specifically for scenarios where the properties of a list (mutability, ordered elements, duplicate values) are either unnecessary or detrimental.\n",
        "\n",
        "A set inherently stores only unique elements. If you try to add an element that already exists, the set ignores the operation. This is the most common reason to use a set.\n",
        "\n",
        "Checking if an element is present in a set is significantly faster than checking a list. Sets use a hash table structure (like dictionaries), providing an average time complexity of $O(1)$ (constant time).\n",
        "\n",
        "Sets natively support mathematical set operations, which are very easy to implement and read."
      ],
      "metadata": {
        "id": "YLYL0wmiaTyd"
      }
    },
    {
      "cell_type": "markdown",
      "source": [
        "**6. What is a string in Python, and how is it different from a list ?**"
      ],
      "metadata": {
        "id": "sBBa8TyJbLTo"
      }
    },
    {
      "cell_type": "markdown",
      "source": [
        "A string in Python is a sequence of characters (letters, numbers, symbols) used to store text-based information, while a list is a sequence of arbitrary objects (which can include strings, numbers, or other lists).\n",
        "\n",
        "The main difference lies in their mutability and the type of data they are designed to hold.\n",
        "\n",
        "**String** - A Sequence of Characters: It is an ordered collection of Unicode characters. **Immutable**: Once created, you cannot change individual characters within the string. Any operation that appears to modify a string actually creates a new string object. **Defined by Quotes**: Created using single quotes ('hello'), double quotes (\"world\"), or triple quotes for multi-line strings.\n",
        "\n",
        "**List** - **A Sequence of Objects**: It is an ordered collection of items, where each item can be any data type (e.g., integer, float, string, or another list). **Mutable**: You can change its contents after creation, including adding, removing, or modifying elements. **Defined by Brackets**: Created using square brackets ([]).  "
      ],
      "metadata": {
        "id": "VPJLtpoobb6L"
      }
    },
    {
      "cell_type": "markdown",
      "source": [
        "**7. How do tuples ensure data integrity in Python ?**"
      ],
      "metadata": {
        "id": "7Uly0vZQcnlI"
      }
    },
    {
      "cell_type": "markdown",
      "source": [
        "Tuples ensure data integrity in Python primarily because they are immutable. This means once a tuple is created, its contents cannot be changed (modified, added to, or removed).\n",
        "\n",
        "**Read-Only Data**: Tuples act as a \"write-protected\" container for data. If you pass a tuple into a function or store it in a shared part of your program, you can be certain that no part of the code will accidentally or deliberately alter the values within it.\n",
        "\n",
        "**Constant Records**: They're ideal for storing fixed records or related values that should remain constant, like database coordinates, RGB color values (e.g., (255, 0, 0)), or a user's date of birth.\n",
        "\n",
        "**Thread Safety**: In multi-threaded environments, immutable objects like tuples are inherently thread-safe because they can't be modified by competing threads, thus preventing corruption and race conditions.\n",
        "\n",
        "**In short**: By being unchangeable, a tuple guarantees that the data it holds today is the exact same data it will hold tomorrow, upholding its integrity throughout the program's lifecycle."
      ],
      "metadata": {
        "id": "_vcOTzcwcsvl"
      }
    },
    {
      "cell_type": "markdown",
      "source": [
        "**8. What is a hash table, and how does it relate to dictionaries in Python ?**\n"
      ],
      "metadata": {
        "id": "C9dVGueFdK__"
      }
    },
    {
      "cell_type": "markdown",
      "source": [
        "A hash table works by mapping keys to values using an array-like structure. It achieves near-instantaneous data lookups by following these steps:\n",
        "\n",
        "\n",
        "1.   **Hash Function**: It takes the input key (e.g., a string or number).\n",
        "2.   **Hash Value**: It runs the key through a hash function to compute an integer called the hash value.\n",
        "3.   **Index/Bucket**: It uses the hash value to calculate a specific index (or \"bucket\") in an internal array where the data (the key-value pair) will be stored.\n",
        "\n",
        "The Python dictionary (dict) is the primary implementation of a hash table in Python.\n",
        "\n",
        "Every time you insert a key-value pair into a Python dictionary, Python hashes the key to figure out where to place the pair in memory.\n",
        "\n",
        "When you look up a value using a key (e.g., my_dict['key']), Python hashes the key again to instantly find the memory location of the corresponding value.\n",
        "\n",
        "This hash table implementation is why dictionaries are the preferred data structure in Python for fast, efficient lookups, provided the keys are hashable (i.e., immutable, like strings, numbers, and tuples).\n",
        "\n"
      ],
      "metadata": {
        "id": "BtNjBNQ3dPlA"
      }
    },
    {
      "cell_type": "markdown",
      "source": [
        "**9. Can lists contain different data types in Python ?**"
      ],
      "metadata": {
        "id": "-Yu7auAId1tR"
      }
    },
    {
      "cell_type": "markdown",
      "source": [
        "Yes, lists can contain different data types in Python.\n",
        "\n",
        "A Python list is designed to be a sequence of arbitrary objects, meaning a single list can hold a mix of integers, floats, strings, boolean values, and even other complex objects like dictionaries, tuples, or other lists.\n",
        "This flexibility is a key feature of Python lists."
      ],
      "metadata": {
        "id": "sA2n6SHyd7UM"
      }
    },
    {
      "cell_type": "markdown",
      "source": [
        "**10. Explain why strings are immutable in Python ?**"
      ],
      "metadata": {
        "id": "XHbv6AY8eUgo"
      }
    },
    {
      "cell_type": "markdown",
      "source": [
        "Strings in Python are \"immutable\" i.e. they cannot be changed after they are created. Strings are immutable by design to keep them safe, consistent, and efficient. Immutability makes strings hashable (usable as dictionary keys), memory-efficient, and thread-safe, ensuring they can be reused without unexpected changes.\n",
        "We cannot update the string after declaring it means once an immutable the objects instantiated, its value cannot be changed.\n",
        "\n",
        "1.   **Hashability**: Immutable objects can be dictionary keys since their hash never changes.\n",
        "2.   **Memory Efficiency**: Reused by Python, saving memory.\n",
        "3.   **Thread Safety**: Safe in multithreading as they can’t be modified.\n",
        "4.   **Predictability**: Values stay fixed, making code easier to debug.\n",
        "5.   **Performance**: Support faster lookups with cached hash values.\n",
        "\n"
      ],
      "metadata": {
        "id": "ZZ8V_Qt1gnSs"
      }
    },
    {
      "cell_type": "markdown",
      "source": [
        "**11. What advantages do dictionaries offer over lists for certain tasks ?**\n"
      ],
      "metadata": {
        "id": "wuuob2gyh_Ec"
      }
    },
    {
      "cell_type": "markdown",
      "source": [
        "Dictionaries offer faster lookups and more efficient searching than lists because they use key-value pairs for access rather than a numerical index. This makes them ideal for tasks where you need to quickly find a specific piece of data using a unique identifier, group related information, and improve code readability. Lists, in contrast, are better suited for situations where the order of elements is important and elements are accessed by their position.\n"
      ],
      "metadata": {
        "id": "3980n88DiSzf"
      }
    },
    {
      "cell_type": "markdown",
      "source": [
        "**12. Describe a scenario where using a tuple would be preferable over a list.**"
      ],
      "metadata": {
        "id": "dbq2kMPgiXiN"
      }
    },
    {
      "cell_type": "markdown",
      "source": [
        "A **tuple** is preferable over a **list** when you need an **immutable**, **fixed-size**, and **hashable** collection of items — in other words, when the data should **not change** during program execution.\n",
        "\n",
        "Here’s a clear example:\n",
        "\n",
        "---\n",
        "\n",
        "### **Scenario: Representing fixed coordinates**\n",
        "\n",
        "Suppose you’re working with 2D or 3D coordinates in a graphics or geometry program.\n",
        "\n",
        "```python\n",
        "point = (10, 20)\n",
        "```\n",
        "\n",
        "You would use a **tuple** instead of a list here because:\n",
        "\n",
        "1. **Immutability** — A coordinate should not change accidentally. Using a tuple ensures that once you’ve created `point`, its values `(10, 20)` remain constant.\n",
        "2. **Hashability** — Tuples can be used as **dictionary keys** or elements in a **set**, whereas lists cannot:\n",
        "\n",
        "   ```python\n",
        "   locations = {\n",
        "       (10, 20): \"Spawn Point\",\n",
        "       (50, 75): \"Treasure Chest\"\n",
        "   }\n",
        "   ```\n",
        "3. **Semantic clarity** — Tuples convey the idea of a **fixed structure** (like an x, y pair), while lists suggest a **collection of similar, possibly changing items**.\n",
        "\n",
        "---\n",
        "\n",
        "### **When to use a list instead**\n",
        "\n",
        "If the data is expected to change — for example, a player’s inventory that can grow or shrink — a **list** would be more appropriate:\n",
        "\n",
        "```python\n",
        "inventory = [\"sword\", \"shield\", \"potion\"]\n",
        "```\n",
        "\n",
        "---\n",
        "\n",
        "**In short:**\n",
        "Use a **tuple** when the collection represents a fixed, unchanging set of related values — such as coordinates, RGB color values, database record keys, or configuration parameters.\n",
        "\n"
      ],
      "metadata": {
        "id": "mmLtABTgjCAC"
      }
    },
    {
      "cell_type": "markdown",
      "source": [
        "**13.  How do sets handle duplicate values in Python ?**"
      ],
      "metadata": {
        "id": "1V1MrJIejaJq"
      }
    },
    {
      "cell_type": "markdown",
      "source": [
        "Python sets are designed to store only unique elements, meaning they inherently handle duplicate values by preventing their inclusion.\n",
        "When you attempt to add an element to a set that is already present, the set simply ignores the addition and remains unchanged. It does not raise an error or store multiple copies of the same element."
      ],
      "metadata": {
        "id": "AGOYoqkTm6mN"
      }
    },
    {
      "cell_type": "code",
      "source": [
        "my_set = {1, 2, 3}\n",
        "print(f\"Initial set: {my_set}\")\n",
        "\n",
        "my_set.add(2) # Attempt to add a duplicate\n",
        "print(f\"Set after adding a duplicate: {my_set}\")\n",
        "\n",
        "my_set.add(4) # Add a new element\n",
        "print(f\"Set after adding a new element: {my_set}\")"
      ],
      "metadata": {
        "colab": {
          "base_uri": "https://localhost:8080/"
        },
        "id": "Hn8KXqRqWlEx",
        "outputId": "2bf91f71-4213-4603-ebba-67c1f950f60b"
      },
      "execution_count": 1,
      "outputs": [
        {
          "output_type": "stream",
          "name": "stdout",
          "text": [
            "Initial set: {1, 2, 3}\n",
            "Set after adding a duplicate: {1, 2, 3}\n",
            "Set after adding a new element: {1, 2, 3, 4}\n"
          ]
        }
      ]
    },
    {
      "cell_type": "markdown",
      "source": [
        "**14. How does the “in” keyword work differently for lists and dictionaries ?**"
      ],
      "metadata": {
        "id": "lq_OFDKanIbE"
      }
    },
    {
      "cell_type": "markdown",
      "source": [
        "The \"in\" keyword in Python functions differently when used with lists and dictionaries due to their underlying data structures and how they store and organize data.\n",
        "\n",
        "**For Lists**:\n",
        "When using \"in\" with a list, it checks for the presence of a specific element (value) within the list. The operation performs a linear search, iterating through each item in the list until a match is found or the end of the list is reached.\n",
        "\n",
        "**For Dictionaries**:\n",
        "When using \"in\" with a dictionary, it checks for the presence of a specific key within the dictionary. It does not check for the presence of values directly. Dictionaries are implemented using hash tables, allowing for very efficient key lookups, typically in near-constant time."
      ],
      "metadata": {
        "id": "DlxeM62jnaXD"
      }
    },
    {
      "cell_type": "markdown",
      "source": [
        "**15. Can you modify the elements of a tuple? Explain why or why not ?**"
      ],
      "metadata": {
        "id": "idB7AommnxES"
      }
    },
    {
      "cell_type": "markdown",
      "source": [
        "No, the elements of a tuple cannot be modified directly after the tuple has been created. Tuples are immutable data structures in Python.\n",
        "Immutability means that once a tuple is defined, its contents are fixed and cannot be changed, added, or removed. If you attempt to modify an element of a tuple, Python will raise a TypeError."
      ],
      "metadata": {
        "id": "G15VZjEtoBNC"
      }
    },
    {
      "cell_type": "markdown",
      "source": [
        "**16. What is a nested dictionary, and give an example of its use case ?**\n"
      ],
      "metadata": {
        "id": "moC_AsWdoYjk"
      }
    },
    {
      "cell_type": "markdown",
      "source": [
        "A nested dictionary is a dictionary where the values associated with some or all of its keys are themselves dictionaries. This structure allows for hierarchical organization of data, representing complex relationships between different pieces of information.\n",
        "Nested dictionaries are excellent for representing data that has a one-to-many or hierarchical relationship, such as structured records, configurations.\n",
        "\n",
        "\n",
        "Imagine you need to store data for several students, and for each student, you need to track their grades in different subjects.\n",
        "\n",
        "**Outer Key**: The student's ID or name.\n",
        "\n",
        "**Inner Dictionary**: The student's record, where keys are the subject names and values are the grades.\n"
      ],
      "metadata": {
        "id": "ZKgoH50xolU8"
      }
    },
    {
      "cell_type": "code",
      "source": [
        "gradebook = {\n",
        "    \"S001\": {\n",
        "        \"name\": \"Aniket\",\n",
        "        \"math\": 92,\n",
        "        \"science\": 88,\n",
        "        \"history\": 95\n",
        "    },\n",
        "    \"S002\": {\n",
        "        \"name\": \"Raj\",\n",
        "        \"math\": 78,\n",
        "        \"science\": 85,\n",
        "        \"history\": 80\n",
        "    },\n",
        "    \"S003\": {\n",
        "        \"name\": \"Chaitra\",\n",
        "        \"math\": 99,\n",
        "        \"science\": 96,\n",
        "        \"history\": 97\n",
        "    }\n",
        "}\n",
        "\n"
      ],
      "metadata": {
        "id": "1EtD0mydo6kq"
      },
      "execution_count": 4,
      "outputs": []
    },
    {
      "cell_type": "code",
      "source": [
        "Raj_math = gradebook[\"S002\"][\"math\"]\n",
        "# Result: 78"
      ],
      "metadata": {
        "id": "SDj5wDHUqX0b"
      },
      "execution_count": 6,
      "outputs": []
    },
    {
      "cell_type": "code",
      "source": [
        "chaitra_name = gradebook[\"S003\"][\"science\"]\n",
        "# Result: 96"
      ],
      "metadata": {
        "id": "Daz3VRibqhXU"
      },
      "execution_count": 9,
      "outputs": []
    },
    {
      "cell_type": "markdown",
      "source": [
        "**17. Describe the time complexity of accessing elements in a dictionary ?**"
      ],
      "metadata": {
        "id": "sTFAhXP5q97m"
      }
    },
    {
      "cell_type": "markdown",
      "source": [
        "Accessing elements in a dictionary, such as in Python, typically has an average time complexity of O(1), which represents constant time. This means that, on average, the time required to retrieve a value by its key does not significantly increase with the size of the dictionary.\n",
        "This efficiency is due to the underlying implementation of dictionaries as hash tables. When a key-value pair is stored, the key is passed through a hash function, which generates a hash value. This hash value is then used to determine a specific memory location (or \"bucket\") where the value is stored. When retrieving a value, the same hash function is applied to the key, leading directly to the location of the stored value.\n",
        "However, in the worst-case scenario, the time complexity can degrade to O(n), where 'n' is the number of elements in the dictionary. This worst case occurs when there are a large number of hash collisions, meaning multiple keys generate the same hash value. If collisions are frequent, the dictionary might have to resort to a linear search within a bucket or a more complex collision resolution strategy, leading to a performance closer to searching through a list. Modern hash table implementations, including Python's, are designed to minimize the occurrence of such worst-case scenarios through sophisticated hash functions and collision resolution techniques, making O(1) the expected and common performance.\n"
      ],
      "metadata": {
        "id": "UapDsVR-rDRJ"
      }
    },
    {
      "cell_type": "markdown",
      "source": [
        "**18. In what situations are lists preferred over dictionaries ?**"
      ],
      "metadata": {
        "id": "SCG6ikPsrZ2z"
      }
    },
    {
      "cell_type": "markdown",
      "source": [
        "Lists are preferred over dictionaries in several situations, primarily when the order of elements is significant or when elements are accessed by their numerical index.\n",
        "\n",
        "**Ordered Collections**: When the sequence or order of elements matters, lists are the appropriate choice. For example, a list of steps in a recipe, a chronological list of events, or a sequence of items in a shopping cart.\n",
        "Sequential Processing: When you need to iterate through elements in a specific order, or perform operations that depend on the position of items, lists are more natural to use.\n",
        "\n",
        "**Index-Based Access**: When elements are primarily accessed or manipulated using their numerical position (index), lists provide efficient O(1) access time. This is common when dealing with data that naturally maps to an ordered sequence, like a series of measurements or a set of options presented in a particular order.\n",
        "\n",
        "**Allowing Duplicate Elements**: Lists readily accommodate duplicate elements, which is a common requirement in many data scenarios, such as a list of votes where the same option might appear multiple times. Dictionaries, on the other hand, require unique keys."
      ],
      "metadata": {
        "id": "p9f9Q5TGrhcg"
      }
    },
    {
      "cell_type": "markdown",
      "source": [
        "**19. Why are dictionaries considered unordered, and how does that affect data retrieval ?**"
      ],
      "metadata": {
        "id": "dAz8HShir59N"
      }
    },
    {
      "cell_type": "markdown",
      "source": [
        "Dictionaries are considered unordered because they don't maintain the order of insertion, as they use a hash table for fast key-based lookups rather than a sequence. This affects data retrieval because you cannot rely on getting items back in the order they were added; instead, you must use the key to access the correct value, which is a very fast operation.\n",
        "\n",
        "**How it affects data retrieval**:\n",
        "\n",
        "**Key-based access is essential**: To retrieve data, you must use the specific key associated with the value you want. For example, my_dict['name'] will always return the value for the \"name\" key, regardless of where it is stored.\n",
        "\n",
        "**Iteration order is not guaranteed to be the insertion order**: When you iterate over a dictionary, the order in which the items appear is not necessarily the same as the order they were inserted.\n",
        "\n",
        "**Fast lookups**: The \"un-ordered\" nature allows for very fast data retrieval. Instead of searching through a sequence, a hash table can find an item in nearly constant time on average, making dictionaries highly efficient for looking up data by a unique identifier."
      ],
      "metadata": {
        "id": "9J4PjCYDsW6m"
      }
    },
    {
      "cell_type": "markdown",
      "source": [
        "**20. Explain the difference between a list and a dictionary in terms of data retrieval.**"
      ],
      "metadata": {
        "id": "JZClwQSisyk-"
      }
    },
    {
      "cell_type": "markdown",
      "source": [
        "Lists and dictionaries are fundamental data structures, differing significantly in how data is stored and retrieved.\n",
        "\n",
        "**Lists**:\n",
        "\n",
        "**Ordered Collection**: Lists maintain the order of elements as they are added.\n",
        "\n",
        "**Indexed Access**: Data retrieval relies on numerical indices, starting from 0. To access an element, its position within the list must be known.\n",
        "\n",
        "**Sequential Search (for values)**: Finding a specific value without knowing its index typically involves iterating through the list, which can be inefficient for large lists (linear time complexity, O(n)).\n",
        "\n",
        "**Dictionaries**:\n",
        "\n",
        "**Unordered Collection (in older Python versions; ordered in Python 3.7+)**: Dictionaries store data as key-value pairs. While Python 3.7 and later maintain insertion order, older versions did not guarantee order.\n",
        "\n",
        "**Key-Based Access**: Data retrieval uses unique, immutable keys to directly access associated values. This provides a direct and efficient way to retrieve data.\n",
        "\n",
        "**Hash-Based Lookup**: Dictionaries use a hashing mechanism to quickly locate the memory address of a value based on its key, resulting in near-constant time complexity (O(1)) for retrieval on average.\n",
        "\n",
        "**In summary**:\n",
        "\n",
        "Lists are suitable for ordered collections where the position of an element is important or when iterating through all elements is a common operation. Retrieval by index is efficient, but searching for a value without knowing its index can be slow.\n",
        "\n",
        "Dictionaries are ideal for storing data that requires quick lookup by a specific identifier (key). Retrieval by key is highly efficient, making them suitable for scenarios like mapping names to values, storing configuration settings, or representing records."
      ],
      "metadata": {
        "id": "NjYS8NIqtQ8w"
      }
    },
    {
      "cell_type": "markdown",
      "source": [
        "**Practical Questions**"
      ],
      "metadata": {
        "id": "3Bv7ToKtuhRl"
      }
    },
    {
      "cell_type": "markdown",
      "source": [
        "**1. Write a code to create a string with your name and print it**"
      ],
      "metadata": {
        "id": "CnibdKoWun1F"
      }
    },
    {
      "cell_type": "code",
      "source": [
        "my_name = \"Aniket\"\n",
        "print(my_name)"
      ],
      "metadata": {
        "colab": {
          "base_uri": "https://localhost:8080/"
        },
        "id": "-fc6WjTMquTi",
        "outputId": "d422b588-8a36-4c39-bf37-7f972648ca46"
      },
      "execution_count": 12,
      "outputs": [
        {
          "output_type": "stream",
          "name": "stdout",
          "text": [
            "Aniket\n"
          ]
        }
      ]
    },
    {
      "cell_type": "markdown",
      "source": [
        "**2. Write a code to find the length of the string \"Hello World\"**"
      ],
      "metadata": {
        "id": "casIwdBSu7mk"
      }
    },
    {
      "cell_type": "code",
      "source": [
        "my_string = \"Hello World\"\n",
        "string_length = len(my_string)\n",
        "print(string_length)\n"
      ],
      "metadata": {
        "colab": {
          "base_uri": "https://localhost:8080/"
        },
        "id": "4ze3mQ9Kuv1a",
        "outputId": "d508d980-581a-4fbd-b979-6726fe697b31"
      },
      "execution_count": 14,
      "outputs": [
        {
          "output_type": "stream",
          "name": "stdout",
          "text": [
            "11\n"
          ]
        }
      ]
    },
    {
      "cell_type": "markdown",
      "source": [
        "**3. Write a code to slice the first 3 characters from the string \"Python Programming.**"
      ],
      "metadata": {
        "id": "McP6hUxAvMOZ"
      }
    },
    {
      "cell_type": "code",
      "source": [
        "my_string = \"Python Programming\"\n",
        "sliced_string = my_string[:3]\n",
        "print(sliced_string)"
      ],
      "metadata": {
        "colab": {
          "base_uri": "https://localhost:8080/"
        },
        "id": "8_m-O97WvLUE",
        "outputId": "a826e251-c7ef-4fc7-f9ab-b091cf81b998"
      },
      "execution_count": 15,
      "outputs": [
        {
          "output_type": "stream",
          "name": "stdout",
          "text": [
            "Pyt\n"
          ]
        }
      ]
    },
    {
      "cell_type": "markdown",
      "source": [
        "**4. Write a code to convert the string \"hello\" to uppercase**\n"
      ],
      "metadata": {
        "id": "3nIe0lYpvWS_"
      }
    },
    {
      "cell_type": "code",
      "source": [
        "my_string = \"hello\"\n",
        "uppercase_string = my_string.upper()\n",
        "print(uppercase_string)"
      ],
      "metadata": {
        "colab": {
          "base_uri": "https://localhost:8080/"
        },
        "id": "HzKZBV6hvUlm",
        "outputId": "d9c3e980-a72c-45a1-bee8-79becc6eb29d"
      },
      "execution_count": 16,
      "outputs": [
        {
          "output_type": "stream",
          "name": "stdout",
          "text": [
            "HELLO\n"
          ]
        }
      ]
    },
    {
      "cell_type": "markdown",
      "source": [
        "**5. Write a code to replace the word \"apple\" with \"orange\" in the string \"I like apple\".**"
      ],
      "metadata": {
        "id": "MNS4JOpzvmRV"
      }
    },
    {
      "cell_type": "code",
      "source": [
        "my_string = \"I like apple\"\n",
        "new_string = my_string.replace(\"apple\", \"orange\")\n",
        "print(new_string)"
      ],
      "metadata": {
        "colab": {
          "base_uri": "https://localhost:8080/"
        },
        "id": "KnCNOKhhvkRu",
        "outputId": "b0a77d73-24ca-40fd-dc12-7a6c3d8d51a0"
      },
      "execution_count": 17,
      "outputs": [
        {
          "output_type": "stream",
          "name": "stdout",
          "text": [
            "I like orange\n"
          ]
        }
      ]
    },
    {
      "cell_type": "markdown",
      "source": [
        "6. Write a code to create a list with numbers 1 to 5 and print it"
      ],
      "metadata": {
        "id": "NQxBGqzewNJc"
      }
    },
    {
      "cell_type": "code",
      "source": [
        "my_list = [1, 2, 3, 4, 5]\n",
        "print(my_list)"
      ],
      "metadata": {
        "colab": {
          "base_uri": "https://localhost:8080/"
        },
        "id": "C9Vm0Ai6v3dm",
        "outputId": "def8d5c7-51de-4e14-c1b4-0b5b7a8df705"
      },
      "execution_count": 18,
      "outputs": [
        {
          "output_type": "stream",
          "name": "stdout",
          "text": [
            "[1, 2, 3, 4, 5]\n"
          ]
        }
      ]
    },
    {
      "cell_type": "markdown",
      "source": [
        "**7.  Write a code to append the number 10 to the list [1, 2, 3, 4].**"
      ],
      "metadata": {
        "id": "T2UJ0-xyx-sr"
      }
    },
    {
      "cell_type": "code",
      "source": [
        "my_list = [1, 2, 3, 4]\n",
        "my_list.append(10)\n",
        "print(my_list)"
      ],
      "metadata": {
        "colab": {
          "base_uri": "https://localhost:8080/"
        },
        "id": "A7bXnokoxAV5",
        "outputId": "78dfb5b3-0dd4-4ef4-d7fe-6fd34fdc285f"
      },
      "execution_count": 19,
      "outputs": [
        {
          "output_type": "stream",
          "name": "stdout",
          "text": [
            "[1, 2, 3, 4, 10]\n"
          ]
        }
      ]
    },
    {
      "cell_type": "markdown",
      "source": [
        "**8. Write a code to remove the number 3 from the list [1, 2, 3, 4, 5].**"
      ],
      "metadata": {
        "id": "HcMiNNs-yKNQ"
      }
    },
    {
      "cell_type": "code",
      "source": [
        "my_list = [1, 2, 3, 4, 5]\n",
        "my_list.remove(3)\n",
        "print(my_list)"
      ],
      "metadata": {
        "colab": {
          "base_uri": "https://localhost:8080/"
        },
        "id": "3y_r6YQCyIcs",
        "outputId": "d638a906-a5a0-43fa-c529-3b9e6862cafc"
      },
      "execution_count": 20,
      "outputs": [
        {
          "output_type": "stream",
          "name": "stdout",
          "text": [
            "[1, 2, 4, 5]\n"
          ]
        }
      ]
    },
    {
      "cell_type": "markdown",
      "source": [
        "**9. Write a code to access the second element in the list ['a', 'b', 'c', 'd'].**"
      ],
      "metadata": {
        "id": "JuIeVRSnyURl"
      }
    },
    {
      "cell_type": "code",
      "source": [
        "my_list = ['a', 'b', 'c', 'd']\n",
        "second_element = my_list[1]\n",
        "print(second_element)"
      ],
      "metadata": {
        "colab": {
          "base_uri": "https://localhost:8080/"
        },
        "id": "3gGmta-qySbY",
        "outputId": "1f98ee8a-15bf-476f-c04d-ff1791dd22b9"
      },
      "execution_count": 21,
      "outputs": [
        {
          "output_type": "stream",
          "name": "stdout",
          "text": [
            "b\n"
          ]
        }
      ]
    },
    {
      "cell_type": "markdown",
      "source": [
        "**10. Write a code to reverse the list [10, 20, 30, 40, 50].**\n"
      ],
      "metadata": {
        "id": "_AqiPo0NyeWH"
      }
    },
    {
      "cell_type": "code",
      "source": [
        "my_list = [10, 20, 30, 40, 50]\n",
        "my_list.reverse()\n",
        "print(my_list)\n"
      ],
      "metadata": {
        "colab": {
          "base_uri": "https://localhost:8080/"
        },
        "id": "RGUjh_eEydom",
        "outputId": "87475897-57a7-4cf8-ee9c-7003cde0851b"
      },
      "execution_count": 22,
      "outputs": [
        {
          "output_type": "stream",
          "name": "stdout",
          "text": [
            "[50, 40, 30, 20, 10]\n"
          ]
        }
      ]
    },
    {
      "cell_type": "markdown",
      "source": [
        "**11.  Write a code to create a tuple with the elements 100, 200, 300 and print it.**"
      ],
      "metadata": {
        "id": "AC-nVxOXyqWC"
      }
    },
    {
      "cell_type": "code",
      "source": [
        "my_tuple = (100, 200, 300)\n",
        "print(my_tuple)"
      ],
      "metadata": {
        "colab": {
          "base_uri": "https://localhost:8080/"
        },
        "id": "ogpij3GhypRa",
        "outputId": "3c38c09e-06d5-4769-aa72-936e2fab7da0"
      },
      "execution_count": 24,
      "outputs": [
        {
          "output_type": "stream",
          "name": "stdout",
          "text": [
            "(100, 200, 300)\n"
          ]
        }
      ]
    },
    {
      "cell_type": "markdown",
      "source": [
        "12. Write a code to access the second-to-last element of the tuple ('red', 'green', 'blue', 'yellow').\n"
      ],
      "metadata": {
        "id": "XIxfgwWKzCM4"
      }
    },
    {
      "cell_type": "code",
      "source": [
        "my_tuple = ('red', 'green', 'blue', 'yellow')\n",
        "second_to_last_element = my_tuple[-2]\n",
        "print(second_to_last_element)"
      ],
      "metadata": {
        "colab": {
          "base_uri": "https://localhost:8080/"
        },
        "id": "hnhWoyUHy8bX",
        "outputId": "5c5e8bda-3d79-404f-9fdd-64ce9bd44c8b"
      },
      "execution_count": 26,
      "outputs": [
        {
          "output_type": "stream",
          "name": "stdout",
          "text": [
            "blue\n"
          ]
        }
      ]
    },
    {
      "cell_type": "markdown",
      "source": [
        "**13.  Write a code to find the minimum number in the tuple (10, 20, 5, 15).**"
      ],
      "metadata": {
        "id": "qX_6HVrzz4_0"
      }
    },
    {
      "cell_type": "code",
      "source": [
        "my_tuple = (10, 20, 5, 15)\n",
        "minimum_number = min(my_tuple)\n",
        "print(minimum_number)"
      ],
      "metadata": {
        "colab": {
          "base_uri": "https://localhost:8080/"
        },
        "id": "1hom9JnWz1z_",
        "outputId": "d504f586-966d-4329-dd74-f989734e9bfe"
      },
      "execution_count": 28,
      "outputs": [
        {
          "output_type": "stream",
          "name": "stdout",
          "text": [
            "5\n"
          ]
        }
      ]
    },
    {
      "cell_type": "markdown",
      "source": [
        "**14. Write a code to find the index of the element \"cat\" in the tuple ('dog', 'cat', 'rabbit').**"
      ],
      "metadata": {
        "id": "5ZzvECBF0Lr0"
      }
    },
    {
      "cell_type": "code",
      "source": [
        "my_tuple = ('dog', 'cat', 'rabbit')\n",
        "index_of_cat = my_tuple.index('cat')\n",
        "print(index_of_cat)"
      ],
      "metadata": {
        "colab": {
          "base_uri": "https://localhost:8080/"
        },
        "id": "geROM3jb0KD2",
        "outputId": "e5baebc9-b1d4-470e-d13b-ffdd37c3393a"
      },
      "execution_count": 29,
      "outputs": [
        {
          "output_type": "stream",
          "name": "stdout",
          "text": [
            "1\n"
          ]
        }
      ]
    },
    {
      "cell_type": "markdown",
      "source": [
        "**15.  Write a code to create a tuple containing three different fruits and check if \"kiwi\" is in it.**"
      ],
      "metadata": {
        "id": "bmOyshVw0jzf"
      }
    },
    {
      "cell_type": "code",
      "source": [
        "fruits_tuple = ('apple', 'kiwi', 'orange')\n",
        "is_kiwi_in_tuple = \"kiwi\" in fruits_tuple\n",
        "print(is_kiwi_in_tuple)"
      ],
      "metadata": {
        "colab": {
          "base_uri": "https://localhost:8080/"
        },
        "id": "-E9AAQrx0hvo",
        "outputId": "af07b696-cfbf-4fa3-f7c7-8391bab1b941"
      },
      "execution_count": 31,
      "outputs": [
        {
          "output_type": "stream",
          "name": "stdout",
          "text": [
            "True\n"
          ]
        }
      ]
    },
    {
      "cell_type": "markdown",
      "source": [
        "**16.  Write a code to create a set with the elements 'a', 'b', 'c' and print it.**\n",
        "\n",
        "\n"
      ],
      "metadata": {
        "id": "_6IgL_5Y1SUe"
      }
    },
    {
      "cell_type": "code",
      "source": [
        "my_set = {'a', 'b', 'c'}\n",
        "print(my_set)"
      ],
      "metadata": {
        "colab": {
          "base_uri": "https://localhost:8080/"
        },
        "id": "MntBT4_l1NzS",
        "outputId": "85cc5420-4abc-409e-cd68-b8e744357355"
      },
      "execution_count": 32,
      "outputs": [
        {
          "output_type": "stream",
          "name": "stdout",
          "text": [
            "{'a', 'c', 'b'}\n"
          ]
        }
      ]
    },
    {
      "cell_type": "markdown",
      "source": [
        "**17.  Write a code to clear all elements from the set {1, 2, 3, 4, 5}.**"
      ],
      "metadata": {
        "id": "FIuIoz5t1quc"
      }
    },
    {
      "cell_type": "code",
      "source": [
        "my_set = {1, 2, 3, 4, 5}\n",
        "my_set.clear()\n",
        "print(my_set)"
      ],
      "metadata": {
        "colab": {
          "base_uri": "https://localhost:8080/"
        },
        "id": "r_yoCcod1pMd",
        "outputId": "e7c8b810-d236-48cb-996a-d54025ff8662"
      },
      "execution_count": 33,
      "outputs": [
        {
          "output_type": "stream",
          "name": "stdout",
          "text": [
            "set()\n"
          ]
        }
      ]
    },
    {
      "cell_type": "markdown",
      "source": [
        "**18.  Write a code to remove the element 4 from the set {1, 2, 3, 4}.**"
      ],
      "metadata": {
        "id": "5zGUJR9a1zZj"
      }
    },
    {
      "cell_type": "code",
      "source": [
        "my_set = {1, 2, 3, 4}\n",
        "my_set.remove(4)\n",
        "print(my_set)"
      ],
      "metadata": {
        "colab": {
          "base_uri": "https://localhost:8080/"
        },
        "id": "rAEMdtWu1yCr",
        "outputId": "e9d07687-85c0-4b94-aabc-99974b021a5b"
      },
      "execution_count": 34,
      "outputs": [
        {
          "output_type": "stream",
          "name": "stdout",
          "text": [
            "{1, 2, 3}\n"
          ]
        }
      ]
    },
    {
      "cell_type": "markdown",
      "source": [
        "19.  Write a code to find the union of two sets {1, 2, 3} and {3, 4, 5}"
      ],
      "metadata": {
        "id": "_v5IZQ4Q2Ca4"
      }
    },
    {
      "cell_type": "code",
      "source": [
        "set1 = {1, 2, 3}\n",
        "set2 = {3, 4, 5}\n",
        "union_set = set1 | set2\n",
        "print(union_set)"
      ],
      "metadata": {
        "colab": {
          "base_uri": "https://localhost:8080/"
        },
        "id": "_cE23NnM2Agh",
        "outputId": "39755a81-aa8e-46ae-8e58-7d55d3738d8a"
      },
      "execution_count": 35,
      "outputs": [
        {
          "output_type": "stream",
          "name": "stdout",
          "text": [
            "{1, 2, 3, 4, 5}\n"
          ]
        }
      ]
    },
    {
      "cell_type": "markdown",
      "source": [
        "**20.  Write a code to find the intersection of two sets {1, 2, 3} and {2, 3, 4}.**"
      ],
      "metadata": {
        "id": "WDpMmRkq2hlo"
      }
    },
    {
      "cell_type": "code",
      "source": [
        "set1 = {1, 2, 3}\n",
        "set2 = {2, 3, 4}\n",
        "intersection_set = set1 & set2\n",
        "print(intersection_set)"
      ],
      "metadata": {
        "colab": {
          "base_uri": "https://localhost:8080/"
        },
        "id": "nolY9OtN2cGS",
        "outputId": "d114421a-4f7f-4197-ab9c-2aad13b5fb5f"
      },
      "execution_count": 36,
      "outputs": [
        {
          "output_type": "stream",
          "name": "stdout",
          "text": [
            "{2, 3}\n"
          ]
        }
      ]
    },
    {
      "cell_type": "markdown",
      "source": [
        "**21.  Write a code to create a dictionary with the keys \"name\", \"age\", and \"city\", and print it.**"
      ],
      "metadata": {
        "id": "8L0JHPEF2wxb"
      }
    },
    {
      "cell_type": "code",
      "source": [
        "my_dict = {\"name\": \"Aniket\", \"age\": 25, \"city\": \"Kolkata\"}\n",
        "print(my_dict)"
      ],
      "metadata": {
        "colab": {
          "base_uri": "https://localhost:8080/"
        },
        "id": "CaCVWTla2rei",
        "outputId": "a6b62061-695e-49ee-b08a-2db283993010"
      },
      "execution_count": 38,
      "outputs": [
        {
          "output_type": "stream",
          "name": "stdout",
          "text": [
            "{'name': 'Aniket', 'age': 25, 'city': 'Kolkata'}\n"
          ]
        }
      ]
    },
    {
      "cell_type": "markdown",
      "source": [
        "**22. Write a code to add a new key-value pair \"country\": \"USA\" to the dictionary {'name': 'John', 'age': 25}.**"
      ],
      "metadata": {
        "id": "j6pJA7py3BBj"
      }
    },
    {
      "cell_type": "code",
      "source": [
        "my_dict = {'name': 'John', 'age': 25}\n",
        "my_dict[\"country\"] = \"USA\"\n",
        "print(my_dict)\n"
      ],
      "metadata": {
        "colab": {
          "base_uri": "https://localhost:8080/"
        },
        "id": "uVjfOmoh241-",
        "outputId": "ff9d3adb-80b3-46a5-e20f-c65e72d818b6"
      },
      "execution_count": 39,
      "outputs": [
        {
          "output_type": "stream",
          "name": "stdout",
          "text": [
            "{'name': 'John', 'age': 25, 'country': 'USA'}\n"
          ]
        }
      ]
    },
    {
      "cell_type": "markdown",
      "source": [
        "**23.  Write a code to access the value associated with the key \"name\" in the dictionary {'name': 'Alice', 'age': 30}.**"
      ],
      "metadata": {
        "id": "ZE77n2ES4Uo4"
      }
    },
    {
      "cell_type": "code",
      "source": [
        "my_dict = {'name': 'Alice', 'age': 30}\n",
        "name_value = my_dict[\"name\"]\n",
        "print(name_value)"
      ],
      "metadata": {
        "colab": {
          "base_uri": "https://localhost:8080/"
        },
        "id": "xqNv3ixt3Qlb",
        "outputId": "c6242c91-1e8b-4229-dced-9ecdbe888aad"
      },
      "execution_count": 40,
      "outputs": [
        {
          "output_type": "stream",
          "name": "stdout",
          "text": [
            "Alice\n"
          ]
        }
      ]
    },
    {
      "cell_type": "markdown",
      "source": [
        "24. Write a code to remove the key \"age\" from the dictionary {'name': 'Bob', 'age': 22, 'city': 'New York'}.\n",
        "**bold text**"
      ],
      "metadata": {
        "id": "IHOpo-yg5MXC"
      }
    },
    {
      "cell_type": "code",
      "source": [
        "my_dict = {'name': 'Bob', 'age': 22, 'city': 'New York'}\n",
        "del my_dict[\"age\"]\n",
        "print(my_dict)"
      ],
      "metadata": {
        "colab": {
          "base_uri": "https://localhost:8080/"
        },
        "id": "NDSCI_sY5JPv",
        "outputId": "80c2c6f6-8e9e-409a-fcc9-74f9619546e3"
      },
      "execution_count": 41,
      "outputs": [
        {
          "output_type": "stream",
          "name": "stdout",
          "text": [
            "{'name': 'Bob', 'city': 'New York'}\n"
          ]
        }
      ]
    },
    {
      "cell_type": "markdown",
      "source": [
        "**25.  Write a code to check if the key \"city\" exists in the dictionary {'name': 'Alice', 'city': 'Paris'}.**"
      ],
      "metadata": {
        "id": "4F4dTaCI5ng9"
      }
    },
    {
      "cell_type": "code",
      "source": [
        "my_dict = {'name': 'Alice', 'city': 'Paris'}\n",
        "if \"city\" in my_dict:\n",
        "    print(\"The key 'city' exists in the dictionary.\")\n",
        "else:\n",
        "    print(\"The key 'city' does not exist in the dictionary.\")"
      ],
      "metadata": {
        "colab": {
          "base_uri": "https://localhost:8080/"
        },
        "id": "oHqmVo9H5aqR",
        "outputId": "32df2822-ec9c-44d2-92c3-ebcb2ba01be9"
      },
      "execution_count": 42,
      "outputs": [
        {
          "output_type": "stream",
          "name": "stdout",
          "text": [
            "The key 'city' exists in the dictionary.\n"
          ]
        }
      ]
    },
    {
      "cell_type": "markdown",
      "source": [
        "**26.  Write a code to create a list, a tuple, and a dictionary, and print them all.**"
      ],
      "metadata": {
        "id": "e2WTMBDc502H"
      }
    },
    {
      "cell_type": "code",
      "source": [
        "my_list = [1, 2, 3]\n",
        "my_tuple = (4, 5, 6)\n",
        "my_dict = {\"a\": 7, \"b\": 8}\n",
        "\n",
        "print(\"List:\", my_list)\n",
        "print(\"Tuple:\", my_tuple)\n",
        "print(\"Dictionary:\", my_dict)"
      ],
      "metadata": {
        "colab": {
          "base_uri": "https://localhost:8080/"
        },
        "id": "AgsZDm-05zks",
        "outputId": "44b4ae52-89d0-4303-cc09-002a5bb9c6a1"
      },
      "execution_count": 43,
      "outputs": [
        {
          "output_type": "stream",
          "name": "stdout",
          "text": [
            "List: [1, 2, 3]\n",
            "Tuple: (4, 5, 6)\n",
            "Dictionary: {'a': 7, 'b': 8}\n"
          ]
        }
      ]
    },
    {
      "cell_type": "markdown",
      "source": [
        "27. Write a code to create a list of 5 random numbers between 1 and 100, sort it in ascending order, and print the\n",
        "result. (replaced)\n"
      ],
      "metadata": {
        "id": "vzonFNSu6DiX"
      }
    },
    {
      "cell_type": "code",
      "source": [
        "import random\n",
        "\n",
        "# Create a list of 5 random numbers between 1 and 100\n",
        "random_numbers = [random.randint(1, 100) for _ in range(5)]\n",
        "print(\"Original list:\", random_numbers)\n",
        "\n",
        "# Sort the list in ascending order\n",
        "random_numbers.sort()\n",
        "print(\"Sorted list:\", random_numbers)"
      ],
      "metadata": {
        "colab": {
          "base_uri": "https://localhost:8080/"
        },
        "id": "2S9BLaLE599z",
        "outputId": "c8c75b61-c621-47bf-f5a5-973717d5681f"
      },
      "execution_count": 44,
      "outputs": [
        {
          "output_type": "stream",
          "name": "stdout",
          "text": [
            "Original list: [55, 98, 57, 4, 19]\n",
            "Sorted list: [4, 19, 55, 57, 98]\n"
          ]
        }
      ]
    },
    {
      "cell_type": "markdown",
      "source": [
        "**28. Write a code to create a list with strings and print the element at the third index**."
      ],
      "metadata": {
        "id": "ZF9BzaTh6RzN"
      }
    },
    {
      "cell_type": "code",
      "source": [
        "my_list = [\"apple\", \"banana\", \"cherry\", \"date\", \"mango\"]\n",
        "print(my_list[2])"
      ],
      "metadata": {
        "colab": {
          "base_uri": "https://localhost:8080/"
        },
        "id": "IA7WGY8L6OIB",
        "outputId": "148d67ae-9480-4ad3-80fc-31ae078f6a7e"
      },
      "execution_count": 46,
      "outputs": [
        {
          "output_type": "stream",
          "name": "stdout",
          "text": [
            "cherry\n"
          ]
        }
      ]
    },
    {
      "cell_type": "markdown",
      "source": [
        "**29. Write a code to combine two dictionaries into one and print the result.**"
      ],
      "metadata": {
        "id": "4UrpLYBH6eCj"
      }
    },
    {
      "cell_type": "code",
      "source": [
        "dict1 = {\"a\": 1, \"b\": 2}\n",
        "dict2 = {\"c\": 3, \"d\": 4}\n",
        "\n",
        "combined_dict = {**dict1, **dict2}\n",
        "print(\"Combined using unpacking:\", combined_dict)\n",
        "\n"
      ],
      "metadata": {
        "colab": {
          "base_uri": "https://localhost:8080/"
        },
        "id": "FkZrMQla6ZvS",
        "outputId": "f568aa2c-e597-4594-a15c-bc0336755498"
      },
      "execution_count": 48,
      "outputs": [
        {
          "output_type": "stream",
          "name": "stdout",
          "text": [
            "Combined using unpacking: {'a': 1, 'b': 2, 'c': 3, 'd': 4}\n"
          ]
        }
      ]
    },
    {
      "cell_type": "markdown",
      "source": [
        "**30.  Write a code to convert a list of strings into a set.**"
      ],
      "metadata": {
        "id": "PuIYAMW47_xl"
      }
    },
    {
      "cell_type": "code",
      "source": [
        "my_list = [\"apple\", \"banana\", \"cherry\", \"apple\", \"date\"]\n",
        "my_set = set(my_list)\n",
        "print(my_set)"
      ],
      "metadata": {
        "colab": {
          "base_uri": "https://localhost:8080/"
        },
        "id": "UpXtzs1e7zvE",
        "outputId": "15dd1fa9-d9c0-4b1a-bbdd-42dc6b6504cc"
      },
      "execution_count": 49,
      "outputs": [
        {
          "output_type": "stream",
          "name": "stdout",
          "text": [
            "{'date', 'banana', 'cherry', 'apple'}\n"
          ]
        }
      ]
    },
    {
      "cell_type": "code",
      "source": [],
      "metadata": {
        "id": "qV8O1OlS8GKq"
      },
      "execution_count": null,
      "outputs": []
    }
  ]
}